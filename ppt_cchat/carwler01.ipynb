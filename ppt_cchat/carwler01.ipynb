{
 "cells": [
  {
   "cell_type": "code",
   "execution_count": 5,
   "metadata": {},
   "outputs": [
    {
     "name": "stdout",
     "output_type": "stream",
     "text": [
      "[奶子] 大奶死神\n",
      "[乳摸] 測試者藏不住秘密，任天堂偷偷開發新\n",
      "[蔚藍] 對瑪懺悔消災\n",
      "(本文已被刪除) [Konjac2016]\n",
      "[閒聊] 一般弟弟不會打量穿著清涼的姊姊吧？\n",
      "[閒聊] 獵人試驗沒過關的該如何調適\n",
      "[閒聊] 北風與太陽\n",
      "[閒聊] 共生體怕音波那為什麼不能用平底鍋秒殺\n",
      "[公告] 第二屆最婆大會 & 公告彙整 & 閒聊區\n",
      "[公告] C_Chat板板規 v.17.1 暨好文補M區\n",
      "[公告] PTT C_Chat沒有字幕組聲明 再世篇\n",
      "[24秋] 秋番各作品首播時間\n",
      "Fw: [公告] 請留意站內信引導加LINE詐騙\n"
     ]
    }
   ],
   "source": [
    "import requests\n",
    "from bs4 import BeautifulSoup\n",
    "\n",
    "response = requests.get(\"https://www.ptt.cc/bbs/C_Chat/index.html\") # 取得C_Chat的HTML原始碼\n",
    "root = BeautifulSoup(response.text, \"html.parser\")  # 解析原始碼\n",
    "\n",
    "links = root.find_all(\"div\", class_=\"title\")    # 文章標題\n",
    "for link in links:\n",
    "    print(link.text.strip()) # strip()用來刪除文字前面和後面多餘的空白"
   ]
  }
 ],
 "metadata": {
  "kernelspec": {
   "display_name": "Python 3",
   "language": "python",
   "name": "python3"
  },
  "language_info": {
   "codemirror_mode": {
    "name": "ipython",
    "version": 3
   },
   "file_extension": ".py",
   "mimetype": "text/x-python",
   "name": "python",
   "nbconvert_exporter": "python",
   "pygments_lexer": "ipython3",
   "version": "3.10.4"
  }
 },
 "nbformat": 4,
 "nbformat_minor": 2
}
