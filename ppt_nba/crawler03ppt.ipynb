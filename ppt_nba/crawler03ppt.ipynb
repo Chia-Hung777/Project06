{
 "cells": [
  {
   "cell_type": "code",
   "execution_count": null,
   "id": "53f5b6ef-e02d-4085-be2d-4be96c07c09c",
   "metadata": {},
   "outputs": [],
   "source": [
    "#取的今天所有發文的文章標題\n",
    "#推文數超過10的文章"
   ]
  },
  {
   "cell_type": "code",
   "execution_count": 1,
   "id": "1f1987ad-b869-4835-8a27-081d40db6677",
   "metadata": {},
   "outputs": [
    {
     "name": "stdout",
     "output_type": "stream",
     "text": [
      "10/23 爆:[BOX ] Timberwolves 103:110 Lakers 數據\n",
      "10/23 32:[情報] NBA Standings (Oct. 23, 2024)\n",
      "10/23 39:[情報] NBA Standings (Oct. 23, 2024)\n",
      "10/23 爆:[Live] 尼克 @ 塞爾提克\n",
      "10/23 68:[花邊] Ray Allen, KG, Paul Pierce 今天合體\n",
      "10/23 40:[討論] 老巴和Shaq對鉛筆「不打背靠背」言論不高\n",
      "10/23 81:[情報] JT上半場 25分6助攻6顆三分\n",
      "10/23 爆:[Live] 灰狼 @ 湖人\n",
      "10/23 爆:[情報] Rudy Gobert續約 3Y/110M\n",
      "10/23 94:[BOX ] Knicks 109:132 Celtics\n",
      "10/23 37:[花邊] 父子同台！詹姆斯父子和葛瑞菲父子合照\n",
      "10/23 56:[情報] 今日 Jayson Tatum\n",
      "10/23 40:[新聞] 無情衛冕軍！塞爾提克平紀錄29顆三分彈\n",
      "10/23 99:[情報] 史上第一次父子同台!!!\n",
      "10/23 35:Re: [情報] Rudy Gobert續約 3Y/110M\n",
      "10/23 60:[花邊] Lebron James登頂歷史打鐵王\n",
      "10/23 38:[花邊] 賽爾提克球迷：洋基爛\n",
      "10/23 14:[新聞] NBA》柯粉放心！柯瑞明新賽季首戰可出賽\n",
      "10/23 77:[情報] 今日Anthony Davis\n",
      "10/23 38:[情報] 勇士本來想換來Towns\n",
      "10/23 17:[花邊] LBJ將追平VC生涯參加22個賽季的紀錄\n",
      "10/23 18:Re: [新聞] 勇士不願意給Kuminga頂薪！談判失敗\n",
      "10/23 55:[花邊] LBJ惡整Bronny的車子\n",
      "10/23 23:[情報]  老巴：沒人敢不尊重JJ教練的\n"
     ]
    }
   ],
   "source": [
    "import requests\n",
    "from bs4 import BeautifulSoup\n",
    "import time\n",
    "\n",
    "today = time.strftime('%m/%d').lstrip('0') \n",
    "#lstrip('0') 回傳的字串沒有0\n",
    "#%m 代表月份 %d代表日期\n",
    "def pttNBA(url ,page =5):\n",
    "    resp = requests.get(url)\n",
    "    if resp.status_code != 200:\n",
    "        print('URL發生錯誤:' + url)\n",
    "        return\n",
    "\n",
    "    soup = BeautifulSoup(resp.text,  'html5lib')\n",
    "    paging = soup.find('div', 'btn-group btn-group-paging').find_all('a')[1]['href']\n",
    "\n",
    "    articles = []\n",
    "    rents = soup.find_all('div','r-ent')\n",
    "    for rent in rents:\n",
    "        title = rent.find('div', 'title').text.strip()\n",
    "        count = rent.find('div', 'nrec').text.strip()\n",
    "        date = rent.find('div', 'meta').find('div', 'date').text.strip()\n",
    "        article = '%s %s:%s' % (date, count, title)\n",
    "        try:\n",
    "            if today == date and int(count) > 10:\n",
    "                articles.append(article)\n",
    "        except:\n",
    "            if today == date and count == '爆':\n",
    "                articles.append(article)\n",
    "    \n",
    "    if len(articles) != 0:\n",
    "        for article in articles:\n",
    "            print(article)\n",
    "        pttNBA('https://www.ptt.cc' + paging)\n",
    "    else:\n",
    "        return\n",
    "    \n",
    "pttNBA('https://www.ptt.cc/bbs/NBA/index.html')\n"
   ]
  },
  {
   "cell_type": "code",
   "execution_count": null,
   "id": "bc8e7c12-258f-44c4-974a-6b2f2f00cced",
   "metadata": {},
   "outputs": [],
   "source": []
  },
  {
   "cell_type": "code",
   "execution_count": null,
   "id": "d4b6507d-d017-493b-b965-b7efdca4c7eb",
   "metadata": {},
   "outputs": [],
   "source": []
  }
 ],
 "metadata": {
  "kernelspec": {
   "display_name": "Python 3 (ipykernel)",
   "language": "python",
   "name": "python3"
  },
  "language_info": {
   "codemirror_mode": {
    "name": "ipython",
    "version": 3
   },
   "file_extension": ".py",
   "mimetype": "text/x-python",
   "name": "python",
   "nbconvert_exporter": "python",
   "pygments_lexer": "ipython3",
   "version": "3.12.7"
  }
 },
 "nbformat": 4,
 "nbformat_minor": 5
}
