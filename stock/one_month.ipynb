{
 "cells": [
  {
   "cell_type": "code",
   "execution_count": 3,
   "metadata": {},
   "outputs": [
    {
     "name": "stdout",
     "output_type": "stream",
     "text": [
      "           日期        成交股數           成交金額     開盤價     最高價     最低價     收盤價  \\\n",
      "0   112/08/01   4,681,935    605,687,341  129.00  129.55  128.85  129.45   \n",
      "1   112/08/02  13,214,168  1,691,372,960  129.40  129.45  127.45  127.85   \n",
      "2   112/08/04   7,590,841    965,724,465  127.25  127.50  126.90  127.25   \n",
      "3   112/08/07   4,928,020    632,072,444  127.65  128.70  127.55  128.50   \n",
      "4   112/08/08  11,518,036  1,462,740,267  128.10  128.20  126.40  127.00   \n",
      "5   112/08/09   3,923,514    498,949,221  126.80  127.65  126.65  127.20   \n",
      "6   112/08/10  12,013,887  1,520,233,956  126.90  127.00  126.30  126.40   \n",
      "7   112/08/11   8,352,738  1,057,052,710  127.00  127.35  126.15  126.30   \n",
      "8   112/08/14  24,758,060  3,085,645,422  125.65  125.70  124.10  124.50   \n",
      "9   112/08/15   8,064,361  1,007,886,002  125.25  125.45  124.60  124.70   \n",
      "10  112/08/16  19,265,218  2,386,950,619  124.15  124.40  123.60  124.05   \n",
      "11  112/08/17  10,203,696  1,262,107,790  123.60  124.65  122.90  124.60   \n",
      "12  112/08/18   8,329,354  1,033,129,605  124.20  124.80  123.70  123.85   \n",
      "13  112/08/21  11,056,378  1,364,733,615  124.20  124.45  123.00  123.00   \n",
      "14  112/08/22   3,869,049    479,695,909  124.00  124.35  123.70  124.00   \n",
      "15  112/08/23   6,976,770    870,807,674  124.00  125.15  124.00  124.85   \n",
      "16  112/08/24   7,038,124    892,217,306  126.40  127.10  126.25  127.00   \n",
      "17  112/08/25   8,003,807  1,000,262,751  125.50  125.50  124.50  124.55   \n",
      "18  112/08/28   4,490,279    563,092,008  124.85  125.70  124.75  125.35   \n",
      "19  112/08/29   6,680,673    837,437,077  126.00  126.05  124.70  126.05   \n",
      "20  112/08/30   5,913,148    748,785,529  126.75  127.05  126.10  126.60   \n",
      "21  112/08/31   4,631,756    582,873,215  126.55  126.55  125.50  125.70   \n",
      "\n",
      "     漲跌價差    成交筆數  \n",
      "0   +0.65   5,568  \n",
      "1   -1.60  25,553  \n",
      "2   -0.60  17,688  \n",
      "3   +1.25   9,990  \n",
      "4   -1.50  22,299  \n",
      "5   +0.20   6,570  \n",
      "6   -0.80  24,030  \n",
      "7   -0.10  14,891  \n",
      "8   -1.80  45,116  \n",
      "9   +0.20  13,972  \n",
      "10  -0.65  28,773  \n",
      "11  +0.55  14,568  \n",
      "12  -0.75  15,609  \n",
      "13  -0.85  22,157  \n",
      "14  +1.00   5,903  \n",
      "15  +0.85   6,513  \n",
      "16  +2.15   9,358  \n",
      "17  -2.45  19,366  \n",
      "18  +0.80   5,969  \n",
      "19  +0.70   5,747  \n",
      "20  +0.55   5,496  \n",
      "21  -0.90   7,284  \n",
      "檔案已成功儲存。\n"
     ]
    }
   ],
   "source": [
    "import requests\n",
    "import json\n",
    "import pandas as pd\n",
    "\n",
    "# 台灣證券交易所，個股日成交資訊\n",
    "url = \"https://www.twse.com.tw/exchangeReport/STOCK_DAY?response=json&date=20230801&stockNo=0050\"\n",
    "\n",
    "# 取得股票資料json字串\n",
    "response = requests.get(url)\n",
    "\n",
    "# 確認請求是否成功\n",
    "if response.status_code == 200:\n",
    "    # 從json字串轉為python的字典格式\n",
    "    json_data = json.loads(response.text)\n",
    "    \n",
    "    # 檢查是否有數據\n",
    "    if \"data\" in json_data and \"fields\" in json_data:\n",
    "        datas = json_data[\"data\"]\n",
    "        fields = json_data[\"fields\"]\n",
    "\n",
    "        # 存成Pandas的Dataframe\n",
    "        df = pd.DataFrame(datas, columns=fields)\n",
    "        print(df)\n",
    "\n",
    "        # 轉成csv檔\n",
    "        df.to_csv(\"./month_stock.csv\", encoding=\"big5\", index=False)\n",
    "        \n",
    "        # 轉成xlsx檔（移除 encoding 參數）\n",
    "        df.to_excel(\"./month_stock.xlsx\", index=False)\n",
    "        \n",
    "        # 轉成html檔\n",
    "        df.to_html(\"./month_stock.html\", index=False)\n",
    "        \n",
    "        print(\"檔案已成功儲存。\")\n",
    "    else:\n",
    "        print(\"回應中沒有找到資料。\")\n",
    "else:\n",
    "    print(f\"無法取得資料。狀態碼: {response.status_code}\")\n"
   ]
  },
  {
   "cell_type": "code",
   "execution_count": 3,
   "metadata": {},
   "outputs": [
    {
     "name": "stdout",
     "output_type": "stream",
     "text": [
      "Collecting openpyxl\n",
      "  Downloading openpyxl-3.1.5-py2.py3-none-any.whl.metadata (2.5 kB)\n",
      "Collecting et-xmlfile (from openpyxl)\n",
      "  Downloading et_xmlfile-1.1.0-py3-none-any.whl.metadata (1.8 kB)\n",
      "Downloading openpyxl-3.1.5-py2.py3-none-any.whl (250 kB)\n",
      "Downloading et_xmlfile-1.1.0-py3-none-any.whl (4.7 kB)\n",
      "Installing collected packages: et-xmlfile, openpyxl\n",
      "Successfully installed et-xmlfile-1.1.0 openpyxl-3.1.5\n",
      "Note: you may need to restart the kernel to use updated packages.\n"
     ]
    }
   ],
   "source": [
    "pip install openpyxl"
   ]
  }
 ],
 "metadata": {
  "kernelspec": {
   "display_name": "Python 3",
   "language": "python",
   "name": "python3"
  },
  "language_info": {
   "codemirror_mode": {
    "name": "ipython",
    "version": 3
   },
   "file_extension": ".py",
   "mimetype": "text/x-python",
   "name": "python",
   "nbconvert_exporter": "python",
   "pygments_lexer": "ipython3",
   "version": "3.10.4"
  }
 },
 "nbformat": 4,
 "nbformat_minor": 2
}
