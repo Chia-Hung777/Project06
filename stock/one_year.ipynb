{
 "cells": [
  {
   "cell_type": "code",
   "execution_count": 3,
   "metadata": {},
   "outputs": [
    {
     "name": "stdout",
     "output_type": "stream",
     "text": [
      "https://www.twse.com.tw/exchangeReport/STOCK_DAY?response=json&date=20230101&stockNo=0050\n",
      "https://www.twse.com.tw/exchangeReport/STOCK_DAY?response=json&date=20230201&stockNo=0050\n",
      "https://www.twse.com.tw/exchangeReport/STOCK_DAY?response=json&date=20230301&stockNo=0050\n",
      "https://www.twse.com.tw/exchangeReport/STOCK_DAY?response=json&date=20230401&stockNo=0050\n",
      "https://www.twse.com.tw/exchangeReport/STOCK_DAY?response=json&date=20230501&stockNo=0050\n",
      "https://www.twse.com.tw/exchangeReport/STOCK_DAY?response=json&date=20230601&stockNo=0050\n",
      "https://www.twse.com.tw/exchangeReport/STOCK_DAY?response=json&date=20230701&stockNo=0050\n",
      "https://www.twse.com.tw/exchangeReport/STOCK_DAY?response=json&date=20230801&stockNo=0050\n",
      "https://www.twse.com.tw/exchangeReport/STOCK_DAY?response=json&date=20230901&stockNo=0050\n",
      "https://www.twse.com.tw/exchangeReport/STOCK_DAY?response=json&date=20231001&stockNo=0050\n",
      "https://www.twse.com.tw/exchangeReport/STOCK_DAY?response=json&date=20231101&stockNo=0050\n",
      "https://www.twse.com.tw/exchangeReport/STOCK_DAY?response=json&date=20231201&stockNo=0050\n",
      "            日期        成交股數           成交金額     開盤價     最高價     最低價     收盤價  \\\n",
      "0    112/01/03  15,272,877  1,673,263,794  109.60  110.90  108.45  110.75   \n",
      "1    112/01/04  14,211,742  1,569,704,151  110.30  110.80  110.10  110.50   \n",
      "2    112/01/05  12,395,862  1,379,134,974  111.25  111.70  110.95  111.30   \n",
      "3    112/01/06  11,826,560  1,321,964,557  111.20  112.20  111.15  111.80   \n",
      "4    112/01/09  15,649,173  1,796,709,538  114.00  115.80  113.90  115.80   \n",
      "..         ...         ...            ...     ...     ...     ...     ...   \n",
      "234  112/12/25   8,406,012  1,122,521,003  133.00  133.80  132.95  133.50   \n",
      "235  112/12/26  17,326,648  2,325,240,676  133.50  134.40  133.50  134.25   \n",
      "236  112/12/27  30,857,192  4,177,189,577  134.40  135.90  134.35  135.75   \n",
      "237  112/12/28  15,353,146  2,085,248,437  135.75  136.00  135.45  135.75   \n",
      "238  112/12/29  13,407,035  1,819,068,025  135.70  136.00  135.35  135.45   \n",
      "\n",
      "      漲跌價差    成交筆數  \n",
      "0    +0.55  13,899  \n",
      "1    -0.25  11,908  \n",
      "2    +0.80  10,075  \n",
      "3    +0.50   9,838  \n",
      "4    +4.00  16,946  \n",
      "..     ...     ...  \n",
      "234  +0.55   8,464  \n",
      "235  +0.75  11,845  \n",
      "236  +1.50  16,671  \n",
      "237   0.00   9,803  \n",
      "238  -0.30   7,710  \n",
      "\n",
      "[239 rows x 9 columns]\n"
     ]
    }
   ],
   "source": [
    "import requests\n",
    "import json\n",
    "import pandas as pd\n",
    "\n",
    "year_df = pd.DataFrame()\n",
    "headers = {\n",
    "    \"User-Agent\": \"Mozilla/5.0 (Windows NT 10.0; Win64; x64) AppleWebKit/537.36 (KHTML, like Gecko) Chrome/92.0.4515.159 Safari/537.36\"\n",
    "}\n",
    "\n",
    "# 從1到12月\n",
    "for m in range(1, 13):\n",
    "    url = \"https://www.twse.com.tw/exchangeReport/STOCK_DAY?response=json&date=2023{0:02d}01&stockNo=0050\".format(m)\n",
    "    print(url)\n",
    "\n",
    "    # 取得股票資料json字串\n",
    "    response = requests.get(url, headers=headers)\n",
    "    \n",
    "    # 從json字串轉為python的字典格式\n",
    "    json_data = json.loads(response.text)\n",
    "    \n",
    "    # 檢查是否有資料\n",
    "    if \"data\" in json_data and \"fields\" in json_data:\n",
    "        datas = json_data[\"data\"]\n",
    "        fields = json_data[\"fields\"]\n",
    "\n",
    "        # 存成Pandas的Dataframe\n",
    "        month_df = pd.DataFrame(datas, columns=fields)\n",
    "        \n",
    "        # 合併於整年的Dataframe，使用 pd.concat 代替 append\n",
    "        year_df = pd.concat([year_df, month_df], ignore_index=True)\n",
    "    else:\n",
    "        print(f\"無法取得 {m} 月的資料\")\n",
    "\n",
    "print(year_df)\n",
    "\n",
    "# 轉成csv檔\n",
    "year_df.to_csv(\"./year_stock.csv\", encoding=\"big5\", index=False)\n"
   ]
  }
 ],
 "metadata": {
  "kernelspec": {
   "display_name": "Python 3",
   "language": "python",
   "name": "python3"
  },
  "language_info": {
   "codemirror_mode": {
    "name": "ipython",
    "version": 3
   },
   "file_extension": ".py",
   "mimetype": "text/x-python",
   "name": "python",
   "nbconvert_exporter": "python",
   "pygments_lexer": "ipython3",
   "version": "3.10.4"
  }
 },
 "nbformat": 4,
 "nbformat_minor": 2
}
