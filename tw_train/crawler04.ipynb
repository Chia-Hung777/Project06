{
 "cells": [
  {
   "cell_type": "code",
   "execution_count": 1,
   "metadata": {},
   "outputs": [
    {
     "name": "stdout",
     "output_type": "stream",
     "text": [
      "自強(3000) 161 : 06:02, 07:05\n",
      "區間 1117 : 06:10, 07:57\n",
      "自強 103 : 06:28, 07:36\n",
      "區間 1121 : 06:39, 08:19\n",
      "自強 105 : 07:00, 08:11\n",
      "區間 2143 : 07:04, 08:41\n",
      "區間快 2007 : 07:22, 08:49\n",
      "區間 1127 : 07:26, 09:11\n",
      "區間 1131 : 07:33, 09:18\n",
      "區間 2153 : 08:03, 09:49\n",
      "自強 109 : 08:13, 09:21\n",
      "自強 113 : 08:28, 09:36\n",
      "區間 1137 : 08:32, 10:07\n",
      "區間 1141 : 08:48, 10:28\n",
      "自強 115 : 09:00, 10:11\n",
      "區間 2163 : 09:05, 10:37\n",
      "莒光 511 : 09:16, 10:43\n",
      "區間 1147 : 09:29, 11:07\n",
      "區間 1151 : 09:39, 11:19\n",
      "自強(3000) 131 : 10:00, 10:57\n",
      "自強(3000) 117 : 10:20, 11:23\n",
      "區間 1157 : 10:24, 12:02\n",
      "區間 1161 : 10:45, 12:24\n",
      "自強 121 : 11:00, 12:08\n",
      "區間 2183 : 11:05, 12:42\n",
      "區間快 2013 : 11:43, 12:58\n",
      "自強 123 : 11:58, 13:06\n"
     ]
    }
   ],
   "source": [
    "import requests\n",
    "from bs4 import BeautifulSoup\n",
    "import time\n",
    "\n",
    "url = 'https://tip.railway.gov.tw/tra-tip-web/tip'\n",
    "staDic = {}\n",
    "today = time.strftime('%Y/%m/%d')\n",
    "sTime = '06:00'\n",
    "eTime = '12:00'\n",
    "\n",
    "def getTrip():\n",
    "    resp = requests.get(url)\n",
    "    if resp.status_code != 200:\n",
    "        print('URL發生錯誤：' + url)\n",
    "        return\n",
    "    \n",
    "    soup = BeautifulSoup(resp.text, 'html5lib')\n",
    "    stations = soup.find(id = 'cityHot').ul.find_all('li')\n",
    "    for station in stations:\n",
    "        stationName = station.button.text\n",
    "        stationId = station.button['title']\n",
    "        staDic[stationName] = stationId\n",
    "    \n",
    "    csrf = soup.find(id = 'queryForm').find('input',{'name':'_csrf'})['value']\n",
    "    formData = {\n",
    "        'trainTypeList':'ALL',\n",
    "        'transfer':'ONE',\n",
    "        'startOrEndTime':'true',\n",
    "        'startStation':staDic['臺北'],\n",
    "        'endStation':staDic['新竹'],\n",
    "        'rideDate':today,\n",
    "        'startTime':sTime,\n",
    "        'endTime':eTime, \n",
    "        '_csrf':csrf\n",
    "    }\n",
    "    \n",
    "    queryUrl = soup.find(id='queryForm')['action']\n",
    "    qResp = requests.post('https://tip.railway.gov.tw'+queryUrl, data=formData)\n",
    "    qSoup = BeautifulSoup(qResp.text, 'html5lib')\n",
    "    trs = qSoup.find_all('tr', 'trip-column')\n",
    "    for tr in trs:\n",
    "        td = tr.find_all('td')\n",
    "        print('%s : %s, %s' % (td[0].ul.li.a.text, td[1].text, td[2].text)) \n",
    "        \n",
    "getTrip()"
   ]
  }
 ],
 "metadata": {
  "kernelspec": {
   "display_name": "Python 3",
   "language": "python",
   "name": "python3"
  },
  "language_info": {
   "codemirror_mode": {
    "name": "ipython",
    "version": 3
   },
   "file_extension": ".py",
   "mimetype": "text/x-python",
   "name": "python",
   "nbconvert_exporter": "python",
   "pygments_lexer": "ipython3",
   "version": "3.10.4"
  }
 },
 "nbformat": 4,
 "nbformat_minor": 2
}
